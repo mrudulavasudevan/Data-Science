{
 "cells": [
  {
   "cell_type": "markdown",
   "metadata": {
    "collapsed": true
   },
   "source": [
    "My Notebook Title"
   ]
  },
  {
   "cell_type": "code",
   "execution_count": 1,
   "metadata": {},
   "outputs": [
    {
     "name": "stdout",
     "output_type": "stream",
     "text": [
      "6\n"
     ]
    }
   ],
   "source": [
    "x=1\n",
    "y=5\n",
    "sum = x+y\n",
    "print(sum)"
   ]
  },
  {
   "cell_type": "markdown",
   "metadata": {},
   "source": [
    "<font color=\"red\"><a href=\"https://pixabay.com/photos/road-forest-season-autumn-fall-1072823/\"><img src=\"https://pixabay.com/photos/road-forest-season-autumn-fall-1072823/road-1072823_1280.jpg\" width=400 /></a>\n",
    "#H1 Header\n",
    "##H2 Header\n",
    "###H3 Header\n",
    "####H4 Header  \n",
    "1.numbering  \n",
    "2.ordering  \n",
    "3.sequencing  \n",
    "\n",
    "**bold**  \n",
    "_italics_"
   ]
  },
  {
   "cell_type": "markdown",
   "metadata": {},
   "source": [
    "End Project"
   ]
  }
 ],
 "metadata": {
  "kernelspec": {
   "display_name": "Python 3.6",
   "language": "python",
   "name": "python3"
  },
  "language_info": {
   "codemirror_mode": {
    "name": "ipython",
    "version": 3
   },
   "file_extension": ".py",
   "mimetype": "text/x-python",
   "name": "python",
   "nbconvert_exporter": "python",
   "pygments_lexer": "ipython3",
   "version": "3.6.9"
  }
 },
 "nbformat": 4,
 "nbformat_minor": 1
}
